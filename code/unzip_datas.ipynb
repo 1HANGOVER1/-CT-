{
 "cells": [
  {
   "cell_type": "markdown",
   "metadata": {
    "collapsed": false
   },
   "source": [
    "---\n",
    "---\n",
    "--initial---preparation---"
   ]
  },
  {
   "cell_type": "code",
   "execution_count": 4,
   "metadata": {
    "collapsed": false
   },
   "outputs": [],
   "source": [
    "#将文件解压\n",
    "import os\n",
    "import zipfile\n",
    "\n",
    "for i in range(1,10):\n",
    "    _filename = \"subset\"+str(i)+\".zip\"\n",
    "    _UNzipped = \"./data-unversioned/part2/luna\"\n",
    "    _zipped = \"./data/part2/luna\"\n",
    "    _PATH = os.path.join(_zipped,_filename)\n",
    "    \n",
    "    with zipfile.ZipFile(_PATH, 'r') as zip_ref:\n",
    "        zip_ref.extractall(_UNzipped)"
   ]
  },
  {
   "cell_type": "code",
   "execution_count": null,
   "metadata": {},
   "outputs": [],
   "source": []
  }
 ],
 "metadata": {
  "kernelspec": {
   "display_name": "Python 3",
   "language": "python",
   "name": "python3"
  },
  "language_info": {
   "codemirror_mode": {
    "name": "ipython",
    "version": 3
   },
   "file_extension": ".py",
   "mimetype": "text/x-python",
   "name": "python",
   "nbconvert_exporter": "python",
   "pygments_lexer": "ipython3",
   "version": "3.9.13"
  }
 },
 "nbformat": 4,
 "nbformat_minor": 1
}
